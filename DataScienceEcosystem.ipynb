{
 "cells": [
  {
   "cell_type": "markdown",
   "id": "dce60073",
   "metadata": {},
   "source": [
    "# Data Science Tools and Ecosystem"
   ]
  },
  {
   "cell_type": "markdown",
   "id": "ca06a5fc",
   "metadata": {},
   "source": [
    "En este cuaderno, se resumen las herramientas y ecosistemas de ciencia de datos."
   ]
  },
  {
   "cell_type": "markdown",
   "id": "83e2744b",
   "metadata": {},
   "source": [
    "**Objetivos:**\n",
    "* Crear un cuaderno de Jupyter\n",
    "* Crear una celda de markdown para una introducción\n",
    "* Crear una celda de markdown para listar lenguajes de ciencia de datos\n",
    "* Crear una celda de markdown para listar bibliotecas de ciencia de datos\n",
    "* Crear una celda de markdown con una tabla de herramientas de ciencia de datos\n"
   ]
  },
  {
   "cell_type": "markdown",
   "id": "540b922a",
   "metadata": {},
   "source": [
    "Algunos de los lenguajes populares que utilizan los científicos de datos son:\n",
    "- Python\n",
    "- Julia\n",
    "- R"
   ]
  },
  {
   "cell_type": "markdown",
   "id": "ff5893c6",
   "metadata": {},
   "source": [
    "Algunas de las bibliotecas comúnmente utilizadas por los científicos de datos incluyen:\n",
    "1. Pandas\n",
    "2. Numpy\n",
    "3. Tensorflow"
   ]
  },
  {
   "cell_type": "markdown",
   "id": "55c7541b",
   "metadata": {},
   "source": [
    "| Herramientas de Ciencia de Datos |\n",
    "| ----------- |\n",
    "| MySQL |\n",
    "| Apache Airflow |\n",
    "| Kubernetes |"
   ]
  },
  {
   "cell_type": "markdown",
   "id": "348bd7ec",
   "metadata": {},
   "source": [
    "### A continuación, se presentan algunos ejemplos de evaluación de expresiones aritméticas en Python"
   ]
  },
  {
   "cell_type": "code",
   "execution_count": null,
   "id": "50dfdc39",
   "metadata": {},
   "outputs": [
    {
     "data": {
      "text/plain": [
       "17"
      ]
     },
     "execution_count": 1,
     "metadata": {},
     "output_type": "execute_result"
    }
   ],
   "source": [
    "# Esta es una expresión aritmética simple para multiplicar y luego sumar enteros\n",
    "(3*4)+5"
   ]
  },
  {
   "cell_type": "code",
   "execution_count": 2,
   "id": "735aa15a",
   "metadata": {},
   "outputs": [
    {
     "name": "stdout",
     "output_type": "stream",
     "text": [
      "3.3333333333333335\n"
     ]
    }
   ],
   "source": [
    "# Esto convertirá 200 minutos a horas dividiendo por 60\n",
    "Minutos = 200\n",
    "Horas = Minutos / 60\n",
    "print(Horas)"
   ]
  },
  {
   "cell_type": "markdown",
   "id": "40fd3648",
   "metadata": {},
   "source": [
    "## Autor\n",
    "Sergio Solano"
   ]
  }
 ],
 "metadata": {
  "kernelspec": {
   "display_name": "Python 3",
   "language": "python",
   "name": "python3"
  },
  "language_info": {
   "codemirror_mode": {
    "name": "ipython",
    "version": 3
   },
   "file_extension": ".py",
   "mimetype": "text/x-python",
   "name": "python",
   "nbconvert_exporter": "python",
   "pygments_lexer": "ipython3",
   "version": "3.11.9"
  }
 },
 "nbformat": 4,
 "nbformat_minor": 5
}
